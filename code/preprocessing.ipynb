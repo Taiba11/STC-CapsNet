import os
import librosa
import librosa.display
import numpy as np
import matplotlib.pyplot as plt

# Set paths
input_dataset_path = "path/to/dataset"  # Update with your dataset path
output_preprocessed_path = "path/to/preprocessed_data"  # Update with your output path

# Create output directory if not exists
os.makedirs(output_preprocessed_path, exist_ok=True)

# Preprocessing functions
def preprocess_audio(file_path):
    """Preprocess the audio: Noise reduction and silence removal."""
    # Load audio
    audio, sr = librosa.load(file_path, sr=None)

    # Noise reduction using spectral gating
    noise_profile = librosa.effects.split(audio)
    denoised_audio = librosa.effects.remix(audio, intervals=noise_profile)

    # Silence removal using a threshold-based algorithm
    non_silent_intervals = librosa.effects.split(denoised_audio, top_db=20)
    trimmed_audio = np.concatenate([denoised_audio[start:end] for start, end in non_silent_intervals])

    return trimmed_audio, sr

def extract_features(audio, sr, feature_type='mel'):
    """Extract features: mel-spectrograms or grayscale spectrograms."""
    if feature_type == 'mel':
        # Generate Mel-spectrogram
        mel_spec = librosa.feature.melspectrogram(y=audio, sr=sr, n_mels=128, fmax=8000)
        log_mel_spec = librosa.power_to_db(mel_spec, ref=np.max)
        return log_mel_spec
    elif feature_type == 'grayscale':
        # Generate grayscale spectrogram
        stft = librosa.stft(audio, n_fft=2048, hop_length=512)
        grayscale_spec = np.abs(stft)
        return grayscale_spec

# Process dataset
for file in os.listdir(input_dataset_path):
    if file.endswith(".wav"):
        file_path = os.path.join(input_dataset_path, file)

        # Preprocess the audio
        audio, sr = preprocess_audio(file_path)

        # Extract features
        mel_features = extract_features(audio, sr, feature_type='mel')
        grayscale_features = extract_features(audio, sr, feature_type='grayscale')

        # Save features
        mel_output_path = os.path.join(output_preprocessed_path, file.replace('.wav', '_mel.npy'))
        gray_output_path = os.path.join(output_preprocessed_path, file.replace('.wav', '_gray.npy'))
        
        np.save(mel_output_path, mel_features)
        np.save(gray_output_path, grayscale_features)

        print(f"Processed and saved features for {file}")
