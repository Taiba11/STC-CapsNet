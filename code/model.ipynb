import numpy as np
from tensorflow.keras.models import Model
from tensorflow.keras.layers import Input, Conv1D, Conv2D, Reshape, Dense, Flatten, Lambda, Activation
from tensorflow.keras.optimizers import Adam
import matplotlib.pyplot as plt

# Define the STC-CapsNet model
def STC_CapsNet(input_shape):
    """Define the Spatio-Temporal Convolutional Capsule Network."""
    inputs = Input(shape=input_shape)

    # Temporal Convolution (1D)
    temp_conv = Conv1D(128, kernel_size=5, strides=1, activation='relu', padding='same')(inputs)

    # Reshape for 2D Convolution
    reshaped = Reshape((input_shape[0], input_shape[1], 1))(temp_conv)

    # Spectral Convolution (2D)
    spec_conv = Conv2D(64, kernel_size=(5, 5), activation='relu', padding='same')(reshaped)

    # Flatten the output for capsule simulation
    flat = Flatten()(spec_conv)

    # Primary Capsule Layer
    primary_caps = Dense(128, activation='relu')(flat)

    # Higher Capsule Layer
    higher_caps = Dense(64, activation='sigmoid')(primary_caps)

    # Classification Layer
    output = Dense(2, activation='softmax')(higher_caps)

    return Model(inputs=inputs, outputs=output)

# Paths
input_feature_path = "path/to/preprocessed_data/train_mel.npy"  # Update with preprocessed feature path
input_label_path = "path/to/preprocessed_data/train_labels.npy"  # Update with label path

# Load data
X_train = np.load(input_feature_path)
y_train = np.load(input_label_path)

# Define model
input_shape = (X_train.shape[1], X_train.shape[2])  # Adjust based on data
model = STC_CapsNet(input_shape)

# Compile model
model.compile(optimizer=Adam(learning_rate=0.001),
              loss='categorical_crossentropy',
              metrics=['accuracy'])

# Train model
history = model.fit(X_train, y_train, batch_size=32, epochs=50, validation_split=0.2)

# Save the model
model.save("path/to/save/STC_CapsNet_model.h5")

# Plot training results
plt.plot(history.history['accuracy'], label='Train Accuracy')
plt.plot(history.history['val_accuracy'], label='Validation Accuracy')
plt.xlabel('Epochs')
plt.ylabel('Accuracy')
plt.title('Model Training Accuracy')
plt.legend()
plt.show()
